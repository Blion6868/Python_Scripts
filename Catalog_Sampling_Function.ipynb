{
 "cells": [
  {
   "cell_type": "code",
   "execution_count": 1,
   "id": "funded-nightmare",
   "metadata": {},
   "outputs": [
    {
     "name": "stdout",
     "output_type": "stream",
     "text": [
      "Audited file saved to: C:\\Users\\bryan\\Downloads\\Catalog_Audit_grr.csv\n"
     ]
    }
   ],
   "source": [
    "import pandas as pd\n",
    "import tkinter as tk\n",
    "from tkinter import filedialog\n",
    "import io\n",
    "import os\n",
    "\n",
    "# Create window for file selection\n",
    "root = tk.Tk()\n",
    "\n",
    "# Use file dialog to select the input file\n",
    "file_path = filedialog.askopenfilename(title=\"Select the catalog to audit: \")\n",
    "\n",
    "if not file_path:\n",
    "    print(\"No file selected.\")\n",
    "    exit()\n",
    "\n",
    "# Read the input file with specified encoding and error handling\n",
    "try:\n",
    "    with open(file_path, 'rb') as file:\n",
    "        content = file.read()\n",
    "        df = pd.read_csv(io.StringIO(content.decode('utf-8', errors='replace')))\n",
    "except Exception as e:\n",
    "    print(f\"Error reading the file: {e}\")\n",
    "    exit()\n",
    "\n",
    "# Filter the dataframe based on a specific condition ('Track Item' == 'Y')\n",
    "df_to_audit = df[df['Track Item'] == 'Y']\n",
    "\n",
    "# Function to determine whether to sample 'Category' or 'Subcategory'\n",
    "def determine_sampling_column(df_to_audit):\n",
    "    if df_to_audit['Subcategory'].isnull().all():\n",
    "        sampling_column = 'Subcategory'\n",
    "    else:\n",
    "        sampling_column = 'Category'\n",
    "    return sampling_column\n",
    "\n",
    "# Sub-function to perform the sampling based on the length of the catalog\n",
    "def sample_items(df_to_audit, sampling_column, sample_fraction):\n",
    "    if len(df_to_audit) == 0:\n",
    "        return None\n",
    "    else:\n",
    "        return df_to_audit.sample(frac=sample_fraction, random_state=42)\n",
    "\n",
    "# Perform different levels of sampling based on catalog size\n",
    "def simple_sample(df_to_audit):\n",
    "    sampling_column = determine_sampling_column(df_to_audit)\n",
    "    if len(df_to_audit) >= 2000:  # Assuming 2000 rows as per your description\n",
    "        return sample_items(df_to_audit, sampling_column, 0.01)\n",
    "    else:\n",
    "        return None\n",
    "\n",
    "# Results of the sampling\n",
    "final_sample = simple_sample(df_to_audit)\n",
    "\n",
    "# Mark items that need to be audited as \"Audit\" in the original DataFrame\n",
    "if final_sample is not None:\n",
    "    # Change 'Y' to 'Audit' in the sampled rows before modifying the DataFrame\n",
    "    df.loc[final_sample.index, 'Track Item'] = 'Audit'  # Modify 'Track Item' to 'Audit' for sampled rows\n",
    "\n",
    "    # Save the audited catalog to the user's downloads directory\n",
    "    downloads_path = os.path.join(os.path.expanduser('~'), 'Downloads')\n",
    "    audited_file_path = os.path.join(downloads_path, 'Catalog_Audit_grr.csv')\n",
    "    df.to_csv(audited_file_path, index=False)\n",
    "    print(f\"Audited file saved to: {audited_file_path}\")\n",
    "else:\n",
    "    print(\"No items to audit.\")\n"
   ]
  },
  {
   "cell_type": "code",
   "execution_count": null,
   "id": "becoming-safety",
   "metadata": {},
   "outputs": [],
   "source": []
  },
  {
   "cell_type": "code",
   "execution_count": null,
   "id": "indonesian-museum",
   "metadata": {},
   "outputs": [],
   "source": []
  }
 ],
 "metadata": {
  "kernelspec": {
   "display_name": "Python 3",
   "language": "python",
   "name": "python3"
  },
  "language_info": {
   "codemirror_mode": {
    "name": "ipython",
    "version": 3
   },
   "file_extension": ".py",
   "mimetype": "text/x-python",
   "name": "python",
   "nbconvert_exporter": "python",
   "pygments_lexer": "ipython3",
   "version": "3.7.16"
  }
 },
 "nbformat": 4,
 "nbformat_minor": 5
}
