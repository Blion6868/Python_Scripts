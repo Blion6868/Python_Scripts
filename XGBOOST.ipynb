{
 "cells": [
  {
   "cell_type": "code",
   "execution_count": 12,
   "id": "f6da9bef-0832-4c2a-9cb4-13bd55795a30",
   "metadata": {},
   "outputs": [],
   "source": [
    "import logging\n",
    "import xgboost as xgb\n",
    "import pandas as pd\n",
    "from sklearn.model_selection import train_test_split\n",
    "from sklearn.metrics import accuracy_score, confusion_matrix, ConfusionMatrixDisplay\n",
    "import matplotlib.pyplot as plt\n",
    "import joblib\n",
    "\n",
    "# --- SETUP LOGGER FIRST ---\n",
    "logging.basicConfig(level=logging.INFO)\n",
    "logger = logging.getLogger(__name__)\n",
    "\n",
    "# --- DATA LOADING ---\n",
    "def load_data():\n",
    "    from sklearn.datasets import load_breast_cancer\n",
    "    data = load_breast_cancer()\n",
    "    return pd.DataFrame(data.data, columns=data.feature_names), data.target\n",
    "\n",
    "# --- MODEL TRAINING ---\n",
    "def train_model(X, y, model_params, output_path=\"xgb_model.joblib\"):\n",
    "    try:\n",
    "        logger.info(\"Splitting data...\")\n",
    "        X_train, X_test, y_train, y_test = train_test_split(\n",
    "            X, y, test_size=0.2, random_state=42\n",
    "        )\n",
    "\n",
    "        logger.info(\"Initializing XGBoost classifier...\")\n",
    "        model = xgb.XGBClassifier(**model_params)\n",
    "\n",
    "        logger.info(\"Training model...\")\n",
    "        model.fit(X_train, y_train)\n",
    "\n",
    "        logger.info(\"Evaluating model...\")\n",
    "        y_pred = model.predict(X_test)\n",
    "        accuracy = accuracy_score(y_test, y_pred)\n",
    "        logger.info(f\"Test Accuracy: {accuracy:.4f}\")\n",
    "\n",
    "        logger.info(f\"Saving model to {output_path}...\")\n",
    "        joblib.dump(model, output_path)\n",
    "\n",
    "        return model, accuracy, y_test, y_pred\n",
    "    except Exception as e:\n",
    "        logger.exception(\"Error during training.\")\n",
    "        raise\n",
    "\n",
    "# --- MAIN SCRIPT ---\n",
    "if __name__ == \"__main__\":\n",
    "    X, y = load_data()\n",
    "\n",
    "    model_params = {\n",
    "        \"n_estimators\": 100,\n",
    "        \"learning_rate\": 0.1,\n",
    "        \"max_depth\": 3,\n",
    "        \"use_label_encoder\": False,\n",
    "        \"eval_metric\": \"logloss\"\n",
    "    }"
   ]
  },
  {
   "cell_type": "code",
   "execution_count": 13,
   "id": "03a74038-8330-46fe-bdc9-c708a175bbd9",
   "metadata": {},
   "outputs": [
    {
     "name": "stderr",
     "output_type": "stream",
     "text": [
      "INFO:__main__:Splitting data...\n",
      "INFO:__main__:Initializing XGBoost classifier...\n",
      "INFO:__main__:Training model...\n",
      "C:\\Users\\bryan\\anaconda3\\Lib\\site-packages\\xgboost\\training.py:183: UserWarning: [12:50:37] WARNING: C:\\actions-runner\\_work\\xgboost\\xgboost\\src\\learner.cc:738: \n",
      "Parameters: { \"use_label_encoder\" } are not used.\n",
      "\n",
      "  bst.update(dtrain, iteration=i, fobj=obj)\n",
      "INFO:__main__:Evaluating model...\n",
      "INFO:__main__:Test Accuracy: 0.9561\n",
      "INFO:__main__:Saving model to xgb_model.joblib...\n"
     ]
    },
    {
     "data": {
      "image/png": "[encoded data removed]",
      "text/plain": [
       "<Figure size 640x480 with 2 Axes>"
      ]
     },
     "metadata": {},
     "output_type": "display_data"
    }
   ],
   "source": [
    "model, acc, y_test, y_pred = train_model(X, y, model_params)\n",
    "\n",
    "cm = confusion_matrix(y_test, y_pred)\n",
    "disp = ConfusionMatrixDisplay(confusion_matrix=cm, display_labels=model.classes_)\n",
    "disp.plot(cmap=\"Blues\")\n",
    "plt.title(\"Confusion Matrix\")\n",
    "plt.show()"
   ]
  },
  {
   "cell_type": "code",
   "execution_count": 14,
   "id": "3d0a8e56-1a80-45d5-b2dc-155f7013e6ab",
   "metadata": {},
   "outputs": [],
   "source": [
    "# Save expected feature order\n",
    "feature_names = X.columns.tolist()\n",
    "with open(\"feature_names.txt\", \"w\") as f:\n",
    "    for name in feature_names:\n",
    "        f.write(f\"{name}\\n\")"
   ]
  },
  {
   "cell_type": "code",
   "execution_count": 15,
   "id": "0bf9da91-2c50-45d4-95d0-e33b63c4c875",
   "metadata": {},
   "outputs": [
    {
     "name": "stdout",
     "output_type": "stream",
     "text": [
      "Predicted class: 1\n",
      "Probability of class 1: 0.9840209\n"
     ]
    }
   ],
   "source": [
    "import joblib\n",
    "import pandas as pd\n",
    "\n",
    "# Load model\n",
    "model = joblib.load(\"xgb_model.joblib\")\n",
    "\n",
    "# Load expected feature names\n",
    "with open(\"feature_names.txt\") as f:\n",
    "    expected_features = [line.strip() for line in f]\n",
    "\n",
    "# Sample input — make sure to include all 30 features\n",
    "sample = {\n",
    "    'mean radius': [14.0],\n",
    "    'mean texture': [20.0],\n",
    "    'mean perimeter': [90.0],\n",
    "    'mean area': [600.0],\n",
    "    'mean smoothness': [0.1],\n",
    "    'mean compactness': [0.2],\n",
    "    'mean concavity': [0.1],\n",
    "    'mean concave points': [0.05],\n",
    "    'mean symmetry': [0.18],\n",
    "    'mean fractal dimension': [0.06],\n",
    "    'radius error': [0.5],\n",
    "    'texture error': [1.0],\n",
    "    'perimeter error': [2.0],\n",
    "    'area error': [40.0],\n",
    "    'smoothness error': [0.005],\n",
    "    'compactness error': [0.02],\n",
    "    'concavity error': [0.01],\n",
    "    'concave points error': [0.01],\n",
    "    'symmetry error': [0.03],\n",
    "    'fractal dimension error': [0.005],\n",
    "    'worst radius': [16.0],\n",
    "    'worst texture': [30.0],\n",
    "    'worst perimeter': [110.0],\n",
    "    'worst area': [800.0],\n",
    "    'worst smoothness': [0.15],\n",
    "    'worst compactness': [0.3],\n",
    "    'worst concavity': [0.2],\n",
    "    'worst concave points': [0.1],\n",
    "    'worst symmetry': [0.25],\n",
    "    'worst fractal dimension': [0.08]\n",
    "}\n",
    "\n",
    "# Convert to DataFrame in correct column order\n",
    "X_new = pd.DataFrame(sample)[expected_features]\n",
    "\n",
    "# Make prediction\n",
    "pred = model.predict(X_new)\n",
    "prob = model.predict_proba(X_new)\n",
    "\n",
    "print(\"Predicted class:\", pred[0])\n",
    "print(\"Probability of class 1:\", prob[0][1])\n"
   ]
  },
  {
   "cell_type": "code",
   "execution_count": null,
   "id": "5b0d939c-31e8-4c12-9c76-b8bbed5491e4",
   "metadata": {},
   "outputs": [],
   "source": []
  },
  {
   "cell_type": "code",
   "execution_count": null,
   "id": "a78d139d-d659-454e-83c0-359ff2fd7a80",
   "metadata": {},
   "outputs": [],
   "source": []
  },
  {
   "cell_type": "code",
   "execution_count": null,
   "id": "213ed577-1515-43cb-acfb-fc4db0a5191a",
   "metadata": {},
   "outputs": [],
   "source": []
  }
 ],
 "metadata": {
  "kernelspec": {
   "display_name": "Python 3 (ipykernel)",
   "language": "python",
   "name": "python3"
  },
  "language_info": {
   "codemirror_mode": {
    "name": "ipython",
    "version": 3
   },
   "file_extension": ".py",
   "mimetype": "text/x-python",
   "name": "python",
   "nbconvert_exporter": "python",
   "pygments_lexer": "ipython3",
   "version": "3.12.7"
  }
 },
 "nbformat": 4,
 "nbformat_minor": 5
}
