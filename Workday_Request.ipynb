{
 "cells": [
  {
   "cell_type": "code",
   "execution_count": null,
   "id": "7185c9c0-e46f-44f1-8732-3022e19a32d4",
   "metadata": {},
   "outputs": [],
   "source": [
    "import requests\n",
    "import pandas as pd\n",
    "from requests.auth import HTTPBasicAuth\n",
    "from datetime import datetime\n",
    "\n",
    "# --- CONFIGURATION ---\n",
    "RAAS_URL = \"https://<tenant>.workday.com/ccx/service/customreport2/<tenant>/Department_Employee_List_API\"\n",
    "DEPARTMENT_NAME = \"Marketing\"  # <-- Change this\n",
    "FORMAT = \"json\"\n",
    "\n",
    "USERNAME = \"your_ISU_username\"\n",
    "PASSWORD = \"your_ISU_password\"\n",
    "\n",
    "# --- BUILD FINAL URL ---\n",
    "full_url = f\"{RAAS_URL}?format={FORMAT}&Supervisory_Organization={DEPARTMENT_NAME}\"\n",
    "\n",
    "# --- MAKE API CALL ---\n",
    "response = requests.get(full_url, auth=HTTPBasicAuth(USERNAME, PASSWORD))\n",
    "\n",
    "if response.status_code == 200:\n",
    "    data = response.json()\n",
    "    entries = data.get(\"Report_Entry\", [])\n",
    "    \n",
    "    # --- CONVERT TO DATAFRAME ---\n",
    "    df = pd.DataFrame(entries)\n",
    "    \n",
    "    # --- SAVE TO CSV ---\n",
    "    date_stamp = datetime.now().strftime(\"%Y-%m-%d\")\n",
    "    filename = f\"{DEPARTMENT_NAME.lower().replace(' ', '_')}_employees_{date_stamp}.csv\"\n",
    "    df.to_csv(filename, index=False)\n",
    "    \n",
    "    print(f\"✅ Data pulled successfully. Saved to: {filename}\")\n",
    "else:\n",
    "    print(f\"❌ Error: {response.status_code}\")\n",
    "    print(response.text)\n"
   ]
  },
  {
   "cell_type": "markdown",
   "id": "8d48b004-7564-49af-93f3-1d91a4ed2507",
   "metadata": {},
   "source": [
    "Python 3.x\n",
    "\n",
    "requests and pandas libraries\n",
    "\n",
    "Workday RaaS URL (your admin will provide)\n",
    "\n",
    "ISU (Integration System User) credentials"
   ]
  },
  {
   "cell_type": "markdown",
   "id": "8756e2aa-b4d1-4761-ac50-433f2bd2cbb2",
   "metadata": {},
   "source": [
    "“Hi, could you provide me with the credentials for an Integration System User (ISU) that has access to our RaaS custom report for department employee data?”\n"
   ]
  }
 ],
 "metadata": {
  "kernelspec": {
   "display_name": "Python 3 (ipykernel)",
   "language": "python",
   "name": "python3"
  },
  "language_info": {
   "codemirror_mode": {
    "name": "ipython",
    "version": 3
   },
   "file_extension": ".py",
   "mimetype": "text/x-python",
   "name": "python",
   "nbconvert_exporter": "python",
   "pygments_lexer": "ipython3",
   "version": "3.12.7"
  }
 },
 "nbformat": 4,
 "nbformat_minor": 5
}
