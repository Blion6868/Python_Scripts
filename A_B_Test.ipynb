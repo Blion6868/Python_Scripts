{
 "cells": [
  {
   "cell_type": "code",
   "execution_count": 4,
   "id": "cd85f8be-6ed6-4f17-91e8-0cc49bc550ca",
   "metadata": {},
   "outputs": [
    {
     "name": "stdout",
     "output_type": "stream",
     "text": [
      "Collecting kagglehubNote: you may need to restart the kernel to use updated packages.\n",
      "\n",
      "  Using cached kagglehub-0.3.10-py3-none-any.whl.metadata (31 kB)\n",
      "Requirement already satisfied: packaging in c:\\users\\bryan\\anaconda3\\lib\\site-packages (from kagglehub) (24.1)\n",
      "Requirement already satisfied: pyyaml in c:\\users\\bryan\\anaconda3\\lib\\site-packages (from kagglehub) (6.0.1)\n",
      "Requirement already satisfied: requests in c:\\users\\bryan\\anaconda3\\lib\\site-packages (from kagglehub) (2.32.3)\n",
      "Requirement already satisfied: tqdm in c:\\users\\bryan\\anaconda3\\lib\\site-packages (from kagglehub) (4.66.5)\n",
      "Requirement already satisfied: charset-normalizer<4,>=2 in c:\\users\\bryan\\anaconda3\\lib\\site-packages (from requests->kagglehub) (3.3.2)\n",
      "Requirement already satisfied: idna<4,>=2.5 in c:\\users\\bryan\\anaconda3\\lib\\site-packages (from requests->kagglehub) (3.7)\n",
      "Requirement already satisfied: urllib3<3,>=1.21.1 in c:\\users\\bryan\\anaconda3\\lib\\site-packages (from requests->kagglehub) (2.2.3)\n",
      "Requirement already satisfied: certifi>=2017.4.17 in c:\\users\\bryan\\anaconda3\\lib\\site-packages (from requests->kagglehub) (2024.8.30)\n",
      "Requirement already satisfied: colorama in c:\\users\\bryan\\anaconda3\\lib\\site-packages (from tqdm->kagglehub) (0.4.6)\n",
      "Using cached kagglehub-0.3.10-py3-none-any.whl (63 kB)\n",
      "Installing collected packages: kagglehub\n",
      "Successfully installed kagglehub-0.3.10\n"
     ]
    }
   ],
   "source": [
    "%pip install kagglehub"
   ]
  },
  {
   "cell_type": "code",
   "execution_count": 36,
   "id": "433a9a1d-325d-4f92-8051-62c3121cb5a5",
   "metadata": {},
   "outputs": [
    {
     "name": "stdout",
     "output_type": "stream",
     "text": [
      "Path to dataset files: C:\\Users\\bryan\\.cache\\kagglehub\\datasets\\chebotinaa\\fast-food-marketing-campaign-ab-test\\versions\\1\n"
     ]
    }
   ],
   "source": [
    "import kagglehub\n",
    "\n",
    "path = kagglehub.dataset_download(\"chebotinaa/fast-food-marketing-campaign-ab-test\")\n",
    "\n",
    "print(\"Path to dataset files:\", path)"
   ]
  },
  {
   "cell_type": "code",
   "execution_count": 68,
   "id": "4870ca11-d91a-4893-a4e9-1a63b4f755ad",
   "metadata": {},
   "outputs": [],
   "source": [
    "#Import libraries\n",
    "import pandas as pd\n",
    "import matplotlib.pyplot as plt\n",
    "import seaborn as sns\n",
    "import numpy as np\n",
    "import os"
   ]
  },
  {
   "cell_type": "code",
   "execution_count": 42,
   "id": "139dbc2c-97ef-4000-9796-6772439af7e0",
   "metadata": {},
   "outputs": [
    {
     "name": "stdout",
     "output_type": "stream",
     "text": [
      "Dataset path: C:\\Users\\bryan\\.cache\\kagglehub\\datasets\\chebotinaa\\fast-food-marketing-campaign-ab-test\\versions\\1\n",
      "Files in dataset folder: ['WA_Marketing-Campaign.csv']\n"
     ]
    }
   ],
   "source": [
    "print(\"Dataset path:\", path)\n",
    "print(\"Files in dataset folder:\", os.listdir(path))"
   ]
  },
  {
   "cell_type": "code",
   "execution_count": 110,
   "id": "0a85118c-a31d-43a0-b08f-92eaa7d8941f",
   "metadata": {},
   "outputs": [],
   "source": [
    "csv_filepath = os.path.join(path, \"WA_Marketing-Campaign.csv\")\n",
    "\n",
    "df = pd.read_csv(csv_filepath)"
   ]
  },
  {
   "cell_type": "code",
   "execution_count": 112,
   "id": "f4c1112f-caf2-4cb0-a0e0-346719aae7e0",
   "metadata": {},
   "outputs": [
    {
     "data": {
      "text/html": [
       "<div>\n",
       "<style scoped>\n",
       "    .dataframe tbody tr th:only-of-type {\n",
       "        vertical-align: middle;\n",
       "    }\n",
       "\n",
       "    .dataframe tbody tr th {\n",
       "        vertical-align: top;\n",
       "    }\n",
       "\n",
       "    .dataframe thead th {\n",
       "        text-align: right;\n",
       "    }\n",
       "</style>\n",
       "<table border=\"1\" class=\"dataframe\">\n",
       "  <thead>\n",
       "    <tr style=\"text-align: right;\">\n",
       "      <th></th>\n",
       "      <th>MarketID</th>\n",
       "      <th>MarketSize</th>\n",
       "      <th>LocationID</th>\n",
       "      <th>AgeOfStore</th>\n",
       "      <th>Promotion</th>\n",
       "      <th>week</th>\n",
       "      <th>SalesInThousands</th>\n",
       "    </tr>\n",
       "  </thead>\n",
       "  <tbody>\n",
       "    <tr>\n",
       "      <th>0</th>\n",
       "      <td>1</td>\n",
       "      <td>Medium</td>\n",
       "      <td>1</td>\n",
       "      <td>4</td>\n",
       "      <td>3</td>\n",
       "      <td>1</td>\n",
       "      <td>33.73</td>\n",
       "    </tr>\n",
       "    <tr>\n",
       "      <th>1</th>\n",
       "      <td>1</td>\n",
       "      <td>Medium</td>\n",
       "      <td>1</td>\n",
       "      <td>4</td>\n",
       "      <td>3</td>\n",
       "      <td>2</td>\n",
       "      <td>35.67</td>\n",
       "    </tr>\n",
       "    <tr>\n",
       "      <th>2</th>\n",
       "      <td>1</td>\n",
       "      <td>Medium</td>\n",
       "      <td>1</td>\n",
       "      <td>4</td>\n",
       "      <td>3</td>\n",
       "      <td>3</td>\n",
       "      <td>29.03</td>\n",
       "    </tr>\n",
       "    <tr>\n",
       "      <th>3</th>\n",
       "      <td>1</td>\n",
       "      <td>Medium</td>\n",
       "      <td>1</td>\n",
       "      <td>4</td>\n",
       "      <td>3</td>\n",
       "      <td>4</td>\n",
       "      <td>39.25</td>\n",
       "    </tr>\n",
       "    <tr>\n",
       "      <th>4</th>\n",
       "      <td>1</td>\n",
       "      <td>Medium</td>\n",
       "      <td>2</td>\n",
       "      <td>5</td>\n",
       "      <td>2</td>\n",
       "      <td>1</td>\n",
       "      <td>27.81</td>\n",
       "    </tr>\n",
       "  </tbody>\n",
       "</table>\n",
       "</div>"
      ],
      "text/plain": [
       "   MarketID MarketSize  LocationID  AgeOfStore  Promotion  week  \\\n",
       "0         1     Medium           1           4          3     1   \n",
       "1         1     Medium           1           4          3     2   \n",
       "2         1     Medium           1           4          3     3   \n",
       "3         1     Medium           1           4          3     4   \n",
       "4         1     Medium           2           5          2     1   \n",
       "\n",
       "   SalesInThousands  \n",
       "0             33.73  \n",
       "1             35.67  \n",
       "2             29.03  \n",
       "3             39.25  \n",
       "4             27.81  "
      ]
     },
     "execution_count": 112,
     "metadata": {},
     "output_type": "execute_result"
    }
   ],
   "source": [
    "df.head()"
   ]
  },
  {
   "cell_type": "code",
   "execution_count": 114,
   "id": "91f1633b-a768-456c-9634-0fa6f7c9d15c",
   "metadata": {},
   "outputs": [
    {
     "name": "stdout",
     "output_type": "stream",
     "text": [
      "<class 'pandas.core.frame.DataFrame'>\n",
      "RangeIndex: 548 entries, 0 to 547\n",
      "Data columns (total 7 columns):\n",
      " #   Column            Non-Null Count  Dtype  \n",
      "---  ------            --------------  -----  \n",
      " 0   MarketID          548 non-null    int64  \n",
      " 1   MarketSize        548 non-null    object \n",
      " 2   LocationID        548 non-null    int64  \n",
      " 3   AgeOfStore        548 non-null    int64  \n",
      " 4   Promotion         548 non-null    int64  \n",
      " 5   week              548 non-null    int64  \n",
      " 6   SalesInThousands  548 non-null    float64\n",
      "dtypes: float64(1), int64(5), object(1)\n",
      "memory usage: 30.1+ KB\n"
     ]
    }
   ],
   "source": [
    "df.info()"
   ]
  },
  {
   "cell_type": "code",
   "execution_count": 92,
   "id": "7d9f1584-bf23-49f8-918c-7077fbed8959",
   "metadata": {},
   "outputs": [
    {
     "name": "stdout",
     "output_type": "stream",
     "text": [
      "MarketID            0\n",
      "MarketSize          0\n",
      "LocationID          0\n",
      "AgeOfStore          0\n",
      "Promotion           0\n",
      "week                0\n",
      "SalesInThousands    0\n",
      "dtype: int64\n"
     ]
    }
   ],
   "source": [
    "print(df.isnull().sum())"
   ]
  },
  {
   "cell_type": "code",
   "execution_count": 90,
   "id": "b630f052-0348-467b-bfcd-d23e7cf231bf",
   "metadata": {},
   "outputs": [
    {
     "name": "stdout",
     "output_type": "stream",
     "text": [
      "         MarketID  LocationID  AgeOfStore   Promotion        week  \\\n",
      "count  548.000000  548.000000  548.000000  548.000000  548.000000   \n",
      "mean     5.715328  479.656934    8.503650    2.029197    2.500000   \n",
      "std      2.877001  287.973679    6.638345    0.810729    1.119055   \n",
      "min      1.000000    1.000000    1.000000    1.000000    1.000000   \n",
      "25%      3.000000  216.000000    4.000000    1.000000    1.750000   \n",
      "50%      6.000000  504.000000    7.000000    2.000000    2.500000   \n",
      "75%      8.000000  708.000000   12.000000    3.000000    3.250000   \n",
      "max     10.000000  920.000000   28.000000    3.000000    4.000000   \n",
      "\n",
      "       SalesInThousands  \n",
      "count        548.000000  \n",
      "mean          53.466204  \n",
      "std           16.755216  \n",
      "min           17.340000  \n",
      "25%           42.545000  \n",
      "50%           50.200000  \n",
      "75%           60.477500  \n",
      "max           99.650000  \n"
     ]
    }
   ],
   "source": [
    "print(df.describe())"
   ]
  },
  {
   "cell_type": "code",
   "execution_count": 58,
   "id": "0622d027-9a3f-485f-9d23-d75f5ac78435",
   "metadata": {},
   "outputs": [
    {
     "data": {
      "text/html": [
       "<div>\n",
       "<style scoped>\n",
       "    .dataframe tbody tr th:only-of-type {\n",
       "        vertical-align: middle;\n",
       "    }\n",
       "\n",
       "    .dataframe tbody tr th {\n",
       "        vertical-align: top;\n",
       "    }\n",
       "\n",
       "    .dataframe thead th {\n",
       "        text-align: right;\n",
       "    }\n",
       "</style>\n",
       "<table border=\"1\" class=\"dataframe\">\n",
       "  <thead>\n",
       "    <tr style=\"text-align: right;\">\n",
       "      <th>week</th>\n",
       "      <th>1</th>\n",
       "      <th>2</th>\n",
       "      <th>3</th>\n",
       "      <th>4</th>\n",
       "    </tr>\n",
       "    <tr>\n",
       "      <th>Promotion</th>\n",
       "      <th></th>\n",
       "      <th></th>\n",
       "      <th></th>\n",
       "      <th></th>\n",
       "    </tr>\n",
       "  </thead>\n",
       "  <tbody>\n",
       "    <tr>\n",
       "      <th>1</th>\n",
       "      <td>43</td>\n",
       "      <td>43</td>\n",
       "      <td>43</td>\n",
       "      <td>43</td>\n",
       "    </tr>\n",
       "    <tr>\n",
       "      <th>2</th>\n",
       "      <td>47</td>\n",
       "      <td>47</td>\n",
       "      <td>47</td>\n",
       "      <td>47</td>\n",
       "    </tr>\n",
       "    <tr>\n",
       "      <th>3</th>\n",
       "      <td>47</td>\n",
       "      <td>47</td>\n",
       "      <td>47</td>\n",
       "      <td>47</td>\n",
       "    </tr>\n",
       "  </tbody>\n",
       "</table>\n",
       "</div>"
      ],
      "text/plain": [
       "week        1   2   3   4\n",
       "Promotion                \n",
       "1          43  43  43  43\n",
       "2          47  47  47  47\n",
       "3          47  47  47  47"
      ]
     },
     "execution_count": 58,
     "metadata": {},
     "output_type": "execute_result"
    }
   ],
   "source": [
    "pd.crosstab(df['Promotion'], df['week'])"
   ]
  },
  {
   "cell_type": "code",
   "execution_count": 88,
   "id": "0c9cadd0-2c3a-43cc-8bb8-67abb1f9aa88",
   "metadata": {},
   "outputs": [
    {
     "data": {
      "text/plain": [
       "Text(0.5, 1.0, 'Promotion Sales in Thousands')"
      ]
     },
     "execution_count": 88,
     "metadata": {},
     "output_type": "execute_result"
    },
    {
     "data": {
      "image/png": "[encoded data removed]",
      "text/plain": [
       "<Figure size 800x600 with 1 Axes>"
      ]
     },
     "metadata": {},
     "output_type": "display_data"
    }
   ],
   "source": [
    "plt.figure(figsize=(8, 6))\n",
    "sns.barplot(x='Promotion', y='SalesInThousands', data=df, hue='Promotion', palette='coolwarm')\n",
    "plt.title('Promotion Sales in Thousands', fontsize=16, weight='bold')"
   ]
  },
  {
   "cell_type": "code",
   "execution_count": 106,
   "id": "53b715a7-2419-40c2-a93c-8f730a608081",
   "metadata": {},
   "outputs": [
    {
     "name": "stdout",
     "output_type": "stream",
     "text": [
      "Unique Promotion Groups: [3 2 1]\n",
      "Normality Test for Group A: p-value = 1.49946592611918e-08\n",
      "Normality Test for Group B: p-value = 5.457099666274281e-09\n",
      "Normality Test for Group C: p-value = 1.97726450444774e-08\n",
      "F-statistic: 21.953485793080677\n",
      "P-value: 6.765849261408714e-10\n"
     ]
    },
    {
     "data": {
      "image/png": "[encoded data removed]",
      "text/plain": [
       "<Figure size 1000x600 with 1 Axes>"
      ]
     },
     "metadata": {},
     "output_type": "display_data"
    },
    {
     "name": "stdout",
     "output_type": "stream",
     "text": [
      "We reject the null hypothesis: There is a significant difference in sales between the promotion groups.\n"
     ]
    }
   ],
   "source": [
    "#Split the data based on the 'Promotion' column (1, 2, 3)\n",
    "promotion_groups = df['Promotion'].unique() \n",
    "print(f\"Unique Promotion Groups: {promotion_groups}\")\n",
    "\n",
    "#Split the sales data by promotion\n",
    "group_a = df[df['Promotion'] == promotion_groups[0]]['SalesInThousands']\n",
    "group_b = df[df['Promotion'] == promotion_groups[1]]['SalesInThousands']\n",
    "group_c = df[df['Promotion'] == promotion_groups[2]]['SalesInThousands']\n",
    "\n",
    "# Perform NOVA to compare means across the three groups\n",
    "f_stat, p_value = stats.f_oneway(group_a, group_b, group_c)\n",
    "\n",
    "print(f\"F-statistic: {f_stat}\")\n",
    "print(f\"P-value: {p_value}\")\n",
    "\n",
    "#If the p-value is less than 0.05, the result is deemed statistically significant\n",
    "\n",
    "#Visualization\n",
    "plt.figure(figsize=(10, 6))\n",
    "plt.hist(group_a, alpha=0.7, label=f'{promotion_groups[0]}', bins=20)\n",
    "plt.hist(group_b, alpha=0.7, label=f'{promotion_groups[1]}', bins=20)\n",
    "plt.hist(group_c, alpha=0.7, label=f'{promotion_groups[2]}', bins=20)\n",
    "plt.legend(loc='upper right')\n",
    "plt.title('Sales Distribution: Different Promotions', fontsize=16)\n",
    "plt.xlabel('Sales (in Thousands)', fontsize=12)\n",
    "plt.ylabel('Frequency', fontsize=12)\n",
    "plt.show()\n",
    "\n",
    "#Interpret the result\n",
    "if p_value < 0.05:\n",
    "    print(\"We reject the null hypothesis: There is a significant difference in sales between the promotion groups.\")\n",
    "else:\n",
    "    print(\"We fail to reject the null hypothesis: There is no significant difference in sales between the promotion groups.\")\n"
   ]
  },
  {
   "cell_type": "code",
   "execution_count": null,
   "id": "547be588-6344-4bc0-bbc9-dbcfbb853a03",
   "metadata": {},
   "outputs": [],
   "source": []
  }
 ],
 "metadata": {
  "kernelspec": {
   "display_name": "Python 3 (ipykernel)",
   "language": "python",
   "name": "python3"
  },
  "language_info": {
   "codemirror_mode": {
    "name": "ipython",
    "version": 3
   },
   "file_extension": ".py",
   "mimetype": "text/x-python",
   "name": "python",
   "nbconvert_exporter": "python",
   "pygments_lexer": "ipython3",
   "version": "3.12.7"
  }
 },
 "nbformat": 4,
 "nbformat_minor": 5
}
