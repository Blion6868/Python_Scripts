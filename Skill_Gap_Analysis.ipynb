{
 "cells": [
  {
   "cell_type": "markdown",
   "id": "03b3d897-715e-4867-a614-9deac569ec3f",
   "metadata": {},
   "source": [
    "This is typically used to compare the skills employees currently have against the skills required for a job or project, and identify the gaps."
   ]
  },
  {
   "cell_type": "code",
   "execution_count": 5,
   "id": "17098a23-0be6-48f2-b635-378cbc5f2d86",
   "metadata": {},
   "outputs": [
    {
     "name": "stdout",
     "output_type": "stream",
     "text": [
      "Skill Gap Analysis:\n",
      "                Skill  Required Level  Employee Level  Skill Gap  \\\n",
      "0              Python               4             3.0        1.0   \n",
      "1                 SQL               4             4.0        0.0   \n",
      "2    Machine Learning               4             2.0        2.0   \n",
      "3       Communication               4             5.0       -1.0   \n",
      "4          Leadership               3             2.0        1.0   \n",
      "5  Project Management               4             0.0        4.0   \n",
      "\n",
      "      Gap Status  \n",
      "0            Gap  \n",
      "1            Met  \n",
      "2            Gap  \n",
      "3  Overqualified  \n",
      "4            Gap  \n",
      "5            Gap  \n",
      "\n",
      "Skills with Gaps:\n",
      "                Skill  Required Level  Employee Level  Skill Gap Gap Status\n",
      "0              Python               4             3.0        1.0        Gap\n",
      "2    Machine Learning               4             2.0        2.0        Gap\n",
      "4          Leadership               3             2.0        1.0        Gap\n",
      "5  Project Management               4             0.0        4.0        Gap\n"
     ]
    }
   ],
   "source": [
    "import pandas as pd\n",
    "\n",
    "#Sample employee skills\n",
    "employee_skills = pd.DataFrame({\n",
    "    'Skill': ['Python', 'SQL', 'Machine Learning', 'Communication', 'Leadership'],\n",
    "    'Employee Level': [3, 4, 2, 5, 2]  # Assume 1-5 scale\n",
    "})\n",
    "\n",
    "#Required skills for a role/project\n",
    "required_skills = pd.DataFrame({\n",
    "    'Skill': ['Python', 'SQL', 'Machine Learning', 'Communication', 'Leadership', 'Project Management'],\n",
    "    'Required Level': [4, 4, 4, 4, 3, 4]\n",
    "})\n",
    "\n",
    "#Merge datasets to align skills\n",
    "merged = pd.merge(required_skills, employee_skills, on='Skill', how='left').fillna(0)\n",
    "\n",
    "#Calculate the skill gap\n",
    "merged['Skill Gap'] = merged['Required Level'] - merged['Employee Level']\n",
    "\n",
    "#Highlight gaps\n",
    "merged['Gap Status'] = merged['Skill Gap'].apply(\n",
    "    lambda x: 'Gap' if x > 0 else ('Overqualified' if x < 0 else 'Met')\n",
    ")\n",
    "\n",
    "#Display results\n",
    "print(\"Skill Gap Analysis:\")\n",
    "print(merged)\n",
    "\n",
    "# Optional: Filter only gaps\n",
    "print(\"\\nSkills with Gaps:\")\n",
    "print(merged[merged['Gap Status'] == 'Gap'])"
   ]
  },
  {
   "cell_type": "code",
   "execution_count": 2,
   "id": "80c63376-a4be-475b-ae6e-c54ef8ac8af1",
   "metadata": {},
   "outputs": [
    {
     "name": "stdout",
     "output_type": "stream",
     "text": [
      "Skill Gap Array: [ 1  0  2 -1  1  4]\n",
      "Number of gaps: 4\n"
     ]
    }
   ],
   "source": [
    "import numpy as np\n",
    "\n",
    "# Example data (as lists)\n",
    "required = np.array([4, 4, 4, 4, 3, 4])\n",
    "employee = np.array([3, 4, 2, 5, 2, 0])\n",
    "\n",
    "# Skill gap calculation\n",
    "gap = required - employee\n",
    "\n",
    "# Summary\n",
    "print(\"Skill Gap Array:\", gap)\n",
    "print(\"Number of gaps:\", np.sum(gap > 0))\n"
   ]
  },
  {
   "cell_type": "markdown",
   "id": "c29e2c55-62d4-4c7e-bfd4-47ad3bba4332",
   "metadata": {},
   "source": [
    "Weighted Skill Gap Analysis"
   ]
  },
  {
   "cell_type": "code",
   "execution_count": 3,
   "id": "f8cf5b8a-ecc8-4044-884c-8c13ddb68081",
   "metadata": {},
   "outputs": [
    {
     "name": "stdout",
     "output_type": "stream",
     "text": [
      "Weighted Skill Gap: 10\n"
     ]
    }
   ],
   "source": [
    "import pandas as pd\n",
    "\n",
    "# Skill data with weights\n",
    "skills = pd.DataFrame({\n",
    "    'Skill': ['Python', 'SQL', 'ML', 'Communication'],\n",
    "    'Required': [4, 4, 4, 4],\n",
    "    'Employee': [3, 4, 2, 5],\n",
    "    'Weight': [3, 2, 4, 1]\n",
    "})\n",
    "\n",
    "# Weighted gap\n",
    "skills['Gap'] = (skills['Required'] - skills['Employee']) * skills['Weight']\n",
    "\n",
    "# Total weighted gap\n",
    "total_gap = skills['Gap'].sum()\n",
    "print(\"Weighted Skill Gap:\", total_gap)\n"
   ]
  },
  {
   "cell_type": "markdown",
   "id": "13f4649e-b33f-4004-8971-ccba53cbf834",
   "metadata": {},
   "source": [
    "Handle multiple employees at once using a matrix (pivot table)"
   ]
  },
  {
   "cell_type": "code",
   "execution_count": 6,
   "id": "2687196d-419f-4125-ac40-53ec4fe48a3e",
   "metadata": {},
   "outputs": [
    {
     "name": "stdout",
     "output_type": "stream",
     "text": [
      "Skill     Python  SQL  Python Gap  SQL Gap\n",
      "Employee                                  \n",
      "Alice          3    4           1        0\n",
      "Bob            4    2           0        2\n"
     ]
    }
   ],
   "source": [
    "# Sample data\n",
    "data = {\n",
    "    'Employee': ['Alice', 'Bob', 'Alice', 'Bob'],\n",
    "    'Skill': ['Python', 'Python', 'SQL', 'SQL'],\n",
    "    'Employee Level': [3, 4, 4, 2]\n",
    "}\n",
    "\n",
    "df = pd.DataFrame(data)\n",
    "required = pd.DataFrame({'Skill': ['Python', 'SQL'], 'Required Level': [4, 4]})\n",
    "\n",
    "# Pivot employee skill matrix\n",
    "pivot = df.pivot(index='Employee', columns='Skill', values='Employee Level').fillna(0)\n",
    "\n",
    "# Merge with required skills\n",
    "for skill in required['Skill']:\n",
    "    pivot[f'{skill} Gap'] = required[required['Skill'] == skill]['Required Level'].values[0] - pivot[skill]\n",
    "\n",
    "print(pivot)\n"
   ]
  },
  {
   "cell_type": "code",
   "execution_count": null,
   "id": "736e10f7-d2da-4c84-959d-6042c27e1b4a",
   "metadata": {},
   "outputs": [],
   "source": []
  }
 ],
 "metadata": {
  "kernelspec": {
   "display_name": "Python 3 (ipykernel)",
   "language": "python",
   "name": "python3"
  },
  "language_info": {
   "codemirror_mode": {
    "name": "ipython",
    "version": 3
   },
   "file_extension": ".py",
   "mimetype": "text/x-python",
   "name": "python",
   "nbconvert_exporter": "python",
   "pygments_lexer": "ipython3",
   "version": "3.12.7"
  }
 },
 "nbformat": 4,
 "nbformat_minor": 5
}
